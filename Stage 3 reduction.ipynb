{
 "cells": [
  {
   "cell_type": "code",
   "execution_count": 1,
   "id": "initial_id",
   "metadata": {
    "collapsed": true,
    "ExecuteTime": {
     "end_time": "2023-11-08T18:16:58.945338Z",
     "start_time": "2023-11-08T18:16:57.631125Z"
    }
   },
   "outputs": [
    {
     "name": "stdout",
     "output_type": "stream",
     "text": [
      "# JWST pipe version = 1.12.5\n",
      "# STCAL version = 1.4.4\n"
     ]
    }
   ],
   "source": [
    "from common_imports import *"
   ]
  },
  {
   "cell_type": "code",
   "execution_count": 6,
   "outputs": [],
   "source": [
    "def write_to_asn_sci(sci_files, asn_file, prod_name='Level3'):\n",
    "    \"\"\"\n",
    "    Write a .json association file that specifies a list of\n",
    "    science and background exposures to be processed by Spec3.\n",
    "    \n",
    "    Arguments:\n",
    "      * scifiles  :  List of on-source cal files to be processed.\n",
    "      * bgfiles   :  List of background cal files to be processed.\n",
    "      * asnfile   :  Output .json file path/name\n",
    "      * prodname  :  AFAIK should just be 'Level3' always but prob\n",
    "                      doesn't actually affect anything but metadata.\n",
    "    \n",
    "    Returns:\n",
    "      * None\n",
    "      \n",
    "    Outputs:\n",
    "      * Writes a .json association file to the location in `asnfile'    \n",
    "    \"\"\"\n",
    "    \n",
    "    # Define the basic association of science files\n",
    "    asn = asn_from_list(sci_files, rule=DMS_Level3_Base, product_name=prod_name)\n",
    "    asn['asn_type'] = 'spec3'\n",
    "    asn['asn_id']   = 'o001'\n",
    "    asn['program']  = '1794'\n",
    "        \n",
    "    # Add background files to the association\n",
    "    # for bgfile in bgfiles:\n",
    "    #     asn['products'][0]['members'].append({'expname':bgfile, 'exptype': 'background'})\n",
    "        \n",
    "    # Write the association to a json file\n",
    "    _, serialized = asn.dump()\n",
    "    with open(asn_file, 'w') as outfile:\n",
    "        outfile.write(serialized)\n",
    "\n",
    "\n",
    "def runspec3(asn_file, out_dir):\n",
    "    \"\"\"\n",
    "    Run the Spec3 pipeline using the given association file. The association\n",
    "    file must contain the information needed - sci and bg cal files - to\n",
    "    run the pipeline.\n",
    "    \n",
    "    Arguments:\n",
    "      * asnfile   :  Input .json file path/name that specifies the sci+bg exposures\n",
    "      * out_dir    :  Directory for the stage3 output files\n",
    "    \n",
    "    Returns:\n",
    "      * None\n",
    "      \n",
    "    Outputs:\n",
    "      * Writes _cal.fits files for each exposure to `outdir'. Also saves\n",
    "          median-combined background images to `outdir'. Additionally if\n",
    "          nocubes=False, writes a 3D data cube built from each exposure\n",
    "          to `outdir'.\n",
    "    \"\"\"    \n",
    "    \n",
    "    \n",
    "    \n",
    "    # This initial setup is just to make sure that we get the latest parameter reference files\n",
    "    # pulled in for our files.  This is a temporary workaround to get around an issue with\n",
    "    # how this pipeline calling method works.\n",
    "    crds_config = Spec3Pipeline.get_config_from_reference(asn_file)\n",
    "    spec3 = Spec3Pipeline.from_config_section(crds_config)\n",
    "    \n",
    "    spec3.output_dir = out_dir\n",
    "    spec3.save_results = True\n",
    "    \n",
    "    # Overrides for whether or not certain steps should be skipped\n",
    "    #spec3.assign_mtwcs.skip = False\n",
    "    #spec3.master_background.skip = True\n",
    "    #spec3.outlier_detection.skip = True\n",
    "    #spec3.mrs_imatch.skip = False\n",
    "    #spec3.cube_build.skip = False\n",
    "    #spec3.extract_1d.skip = False\n",
    "    \n",
    "    # Grow out from outlying pixels (default was 1)\n",
    "    spec3.outlier_detection.grow = 3\n",
    "    \n",
    "    # Cube building configuration options\n",
    "    # The following was the set of parameters used to build the cubes\n",
    "    #  used for Spilker et al. (2023). They were default at the time\n",
    "    #  but the defaults have since been updated.\n",
    "    # spec3.cube_build.channel = '3'    # Only build the Ch3 cube\n",
    "    # spec3.cube_build.band    = 'long' # Only build from the long detector (seems redundant w/ Ch3)\n",
    "    # spec3.cube_build.scale2  = 0.003  # Create cube with 0.003um wavelength channels (old default)\n",
    "    # spec3.cube_build.output_file = 'bandcube' # Custom output name\n",
    "    # spec3.cube_build.output_type = 'band' # 'band', 'channel', or 'multi' type cube output\n",
    "    # spec3.cube_build.weighting = 'drizzle' # 'emsm' or 'drizzle'\n",
    "    \n",
    "    # Instead of building a cube with N=up, this will build it aligned\n",
    "    # with the actual along/across slice directions on the detector.\n",
    "    # Needs to be this way in order for subsequent de-striping to work.\n",
    "    spec3.cube_build.coord_system = 'ifualign' # 'ifualign', 'skyalign', or 'internal_cal'\n",
    "\n",
    "    # Extract1D overrides\n",
    "    #spec3.extract1d.override_extract1d = 'myfile.asdf'\n",
    "    #spec3.extract1d.override_apcorr = 'myfile.asdf'\n",
    "\n",
    "    spec3(asn_file)\n"
   ],
   "metadata": {
    "collapsed": false,
    "ExecuteTime": {
     "end_time": "2023-10-03T15:47:50.482529Z",
     "start_time": "2023-10-03T15:47:50.462304Z"
    }
   },
   "id": "2d24e6bb27a0262e"
  },
  {
   "cell_type": "code",
   "execution_count": 7,
   "outputs": [
    {
     "name": "stderr",
     "output_type": "stream",
     "text": [
      "2023-10-03 10:47:51,159 - stpipe - WARNING - /Users/ajshajib/miniforge3/envs/jwst_pipe/lib/python3.11/site-packages/jwst/associations/association.py:215: UserWarning: 'expname' contains path, but should only be a filename.  All input files should be in a single directory, so no path is needed.\n",
      "2023-10-03 10:47:51,159 - stpipe - WARNING -   warnings.warn(err_str, UserWarning)\n",
      "2023-10-03 10:47:51,159 - stpipe - WARNING - \n"
     ]
    },
    {
     "name": "stdout",
     "output_type": "stream",
     "text": [
      "['/Users/ajshajib/Research/1131_JWST/data/stage2/jw01794001001_02101_00001_nrs1_cal.fits', '/Users/ajshajib/Research/1131_JWST/data/stage2/jw01794001001_02101_00002_nrs1_cal.fits', '/Users/ajshajib/Research/1131_JWST/data/stage2/jw01794001001_02101_00003_nrs1_cal.fits', '/Users/ajshajib/Research/1131_JWST/data/stage2/jw01794001001_02101_00004_nrs1_cal.fits', '/Users/ajshajib/Research/1131_JWST/data/stage2/jw01794001001_04101_00001_nrs1_cal.fits', '/Users/ajshajib/Research/1131_JWST/data/stage2/jw01794001001_04101_00002_nrs1_cal.fits', '/Users/ajshajib/Research/1131_JWST/data/stage2/jw01794001001_04101_00003_nrs1_cal.fits', '/Users/ajshajib/Research/1131_JWST/data/stage2/jw01794001001_04101_00004_nrs1_cal.fits', '/Users/ajshajib/Research/1131_JWST/data/stage2/jw01794001001_06101_00001_nrs1_cal.fits', '/Users/ajshajib/Research/1131_JWST/data/stage2/jw01794001001_06101_00002_nrs1_cal.fits', '/Users/ajshajib/Research/1131_JWST/data/stage2/jw01794001001_06101_00003_nrs1_cal.fits', '/Users/ajshajib/Research/1131_JWST/data/stage2/jw01794001001_06101_00004_nrs1_cal.fits', '/Users/ajshajib/Research/1131_JWST/data/stage2/jw01794001001_08101_00001_nrs1_cal.fits', '/Users/ajshajib/Research/1131_JWST/data/stage2/jw01794001001_08101_00002_nrs1_cal.fits', '/Users/ajshajib/Research/1131_JWST/data/stage2/jw01794001001_08101_00003_nrs1_cal.fits', '/Users/ajshajib/Research/1131_JWST/data/stage2/jw01794001001_08101_00004_nrs1_cal.fits', '/Users/ajshajib/Research/1131_JWST/data/stage2/jw01794001001_10101_00001_nrs1_cal.fits', '/Users/ajshajib/Research/1131_JWST/data/stage2/jw01794001001_12101_00001_nrs1_cal.fits', '/Users/ajshajib/Research/1131_JWST/data/stage2/jw01794001001_14101_00001_nrs1_cal.fits', '/Users/ajshajib/Research/1131_JWST/data/stage2/jw01794001001_16101_00001_nrs1_cal.fits']\n"
     ]
    },
    {
     "name": "stderr",
     "output_type": "stream",
     "text": [
      "2023-10-03 10:47:52,579 - stpipe.Spec3Pipeline - INFO - Spec3Pipeline instance created.\n",
      "2023-10-03 10:47:52,580 - stpipe.Spec3Pipeline.assign_mtwcs - INFO - AssignMTWcsStep instance created.\n",
      "2023-10-03 10:47:52,580 - stpipe.Spec3Pipeline.master_background - INFO - MasterBackgroundStep instance created.\n",
      "2023-10-03 10:47:52,581 - stpipe.Spec3Pipeline.mrs_imatch - INFO - MRSIMatchStep instance created.\n",
      "2023-10-03 10:47:52,582 - stpipe.Spec3Pipeline.outlier_detection - INFO - OutlierDetectionStep instance created.\n",
      "2023-10-03 10:47:52,582 - stpipe.Spec3Pipeline.resample_spec - INFO - ResampleSpecStep instance created.\n",
      "2023-10-03 10:47:52,583 - stpipe.Spec3Pipeline.cube_build - INFO - CubeBuildStep instance created.\n",
      "2023-10-03 10:47:52,584 - stpipe.Spec3Pipeline.extract_1d - INFO - Extract1dStep instance created.\n",
      "2023-10-03 10:47:52,584 - stpipe.Spec3Pipeline.photom - INFO - PhotomStep instance created.\n",
      "2023-10-03 10:47:52,585 - stpipe.Spec3Pipeline.combine_1d - INFO - Combine1dStep instance created.\n",
      "2023-10-03 10:47:54,077 - stpipe.Spec3Pipeline - INFO - Step Spec3Pipeline running with args ('/Users/ajshajib/Research/1131_JWST/data/stage3/level3_asn.json',).\n",
      "2023-10-03 10:47:54,080 - stpipe.Spec3Pipeline - INFO - Step Spec3Pipeline parameters are: {'pre_hooks': [], 'post_hooks': [], 'output_file': None, 'output_dir': '/Users/ajshajib/Research/1131_JWST/data/stage3/', 'output_ext': '.fits', 'output_use_model': False, 'output_use_index': True, 'save_results': True, 'skip': False, 'suffix': None, 'search_output_file': True, 'input_dir': '', 'steps': {'assign_mtwcs': {'pre_hooks': [], 'post_hooks': [], 'output_file': None, 'output_dir': None, 'output_ext': '.fits', 'output_use_model': True, 'output_use_index': True, 'save_results': False, 'skip': False, 'suffix': 'assign_mtwcs', 'search_output_file': True, 'input_dir': ''}, 'master_background': {'pre_hooks': [], 'post_hooks': [], 'output_file': None, 'output_dir': None, 'output_ext': '.fits', 'output_use_model': True, 'output_use_index': True, 'save_results': False, 'skip': False, 'suffix': None, 'search_output_file': True, 'input_dir': '', 'user_background': None, 'save_background': False, 'force_subtract': False}, 'mrs_imatch': {'pre_hooks': [], 'post_hooks': [], 'output_file': None, 'output_dir': None, 'output_ext': '.fits', 'output_use_model': False, 'output_use_index': True, 'save_results': False, 'skip': False, 'suffix': None, 'search_output_file': True, 'input_dir': '', 'bkg_degree': 1, 'subtract': False}, 'outlier_detection': {'pre_hooks': [], 'post_hooks': [], 'output_file': None, 'output_dir': None, 'output_ext': '.fits', 'output_use_model': False, 'output_use_index': True, 'save_results': False, 'skip': False, 'suffix': None, 'search_output_file': False, 'input_dir': '', 'weight_type': 'ivm', 'pixfrac': 1.0, 'kernel': 'square', 'fillval': 'INDEF', 'nlow': 0, 'nhigh': 0, 'maskpt': 0.7, 'grow': 3, 'snr': '5.0 4.0', 'scale': '1.2 0.7', 'backg': 0.0, 'kernel_size': '7 7', 'threshold_percent': 99.8, 'ifu_second_check': False, 'save_intermediate_results': False, 'resample_data': True, 'good_bits': '~DO_NOT_USE', 'scale_detection': False, 'allowed_memory': None, 'in_memory': False}, 'resample_spec': {'pre_hooks': [], 'post_hooks': [], 'output_file': None, 'output_dir': None, 'output_ext': '.fits', 'output_use_model': False, 'output_use_index': True, 'save_results': False, 'skip': False, 'suffix': None, 'search_output_file': True, 'input_dir': '', 'pixfrac': 1.0, 'kernel': 'square', 'fillval': 'INDEF', 'weight_type': 'ivm', 'output_shape': None, 'crpix': None, 'crval': None, 'rotation': None, 'pixel_scale_ratio': 1.0, 'pixel_scale': None, 'output_wcs': '', 'single': False, 'blendheaders': True, 'allowed_memory': None, 'in_memory': True}, 'cube_build': {'pre_hooks': [], 'post_hooks': [], 'output_file': None, 'output_dir': None, 'output_ext': '.fits', 'output_use_model': True, 'output_use_index': True, 'save_results': False, 'skip': False, 'suffix': 's3d', 'search_output_file': False, 'input_dir': '', 'channel': 'all', 'band': 'all', 'grating': 'all', 'filter': 'all', 'output_type': None, 'scalexy': 0.0, 'scalew': 0.0, 'weighting': 'drizzle', 'coord_system': 'ifualign', 'rois': 0.0, 'roiw': 0.0, 'weight_power': 2.0, 'wavemin': None, 'wavemax': None, 'single': False, 'skip_dqflagging': False, 'debug_spaxel': '-1 -1 -1'}, 'extract_1d': {'pre_hooks': [], 'post_hooks': [], 'output_file': None, 'output_dir': None, 'output_ext': '.fits', 'output_use_model': False, 'output_use_index': True, 'save_results': False, 'skip': False, 'suffix': None, 'search_output_file': True, 'input_dir': '', 'smoothing_length': None, 'bkg_fit': None, 'bkg_order': None, 'bkg_sigma_clip': 3.0, 'log_increment': 50, 'subtract_background': None, 'use_source_posn': None, 'center_xy': None, 'apply_apcorr': True, 'ifu_autocen': False, 'ifu_rfcorr': False, 'soss_atoca': True, 'soss_threshold': 0.01, 'soss_n_os': 2, 'soss_wave_grid_in': None, 'soss_wave_grid_out': None, 'soss_estimate': None, 'soss_rtol': 0.0001, 'soss_max_grid_size': 20000, 'soss_transform': None, 'soss_tikfac': None, 'soss_width': 40.0, 'soss_bad_pix': 'masking', 'soss_modelname': None}, 'photom': {'pre_hooks': [], 'post_hooks': [], 'output_file': None, 'output_dir': None, 'output_ext': '.fits', 'output_use_model': False, 'output_use_index': True, 'save_results': False, 'skip': False, 'suffix': None, 'search_output_file': True, 'input_dir': '', 'inverse': False, 'source_type': None, 'mrs_time_correction': True}, 'combine_1d': {'pre_hooks': [], 'post_hooks': [], 'output_file': None, 'output_dir': None, 'output_ext': '.fits', 'output_use_model': False, 'output_use_index': True, 'save_results': False, 'skip': False, 'suffix': None, 'search_output_file': True, 'input_dir': '', 'exptime_key': 'exposure_time'}}}\n",
      "2023-10-03 10:47:54,090 - stpipe.Spec3Pipeline - WARNING - /Users/ajshajib/miniforge3/envs/jwst_pipe/lib/python3.11/site-packages/jwst/associations/association.py:215: UserWarning: 'expname' contains path, but should only be a filename.  All input files should be in a single directory, so no path is needed.\n",
      "2023-10-03 10:47:54,090 - stpipe.Spec3Pipeline - WARNING -   warnings.warn(err_str, UserWarning)\n",
      "2023-10-03 10:47:54,091 - stpipe.Spec3Pipeline - WARNING - \n",
      "2023-10-03 10:47:55,501 - stpipe.Spec3Pipeline - INFO - Prefetching reference files for dataset: 'jw01794001001_02101_00001_nrs1_cal.fits' reftypes = ['apcorr', 'area', 'cubepar', 'drizpars', 'extract1d', 'photom', 'speckernel', 'specprofile', 'spectrace', 'wavemap']\n",
      "2023-10-03 10:47:55,503 - stpipe.Spec3Pipeline - INFO - Prefetch for APCORR reference file is '/Users/ajshajib/Research/1131_JWST/CRDS/references/jwst/nirspec/jwst_nirspec_apcorr_0004.asdf'.\n",
      "2023-10-03 10:47:55,504 - stpipe.Spec3Pipeline - INFO - Prefetch for AREA reference file is '/Users/ajshajib/Research/1131_JWST/CRDS/references/jwst/nirspec/jwst_nirspec_area_0042.fits'.\n",
      "2023-10-03 10:47:55,504 - stpipe.Spec3Pipeline - INFO - Prefetch for CUBEPAR reference file is '/Users/ajshajib/Research/1131_JWST/CRDS/references/jwst/nirspec/jwst_nirspec_cubepar_0007.fits'.\n",
      "2023-10-03 10:47:55,505 - stpipe.Spec3Pipeline - INFO - Prefetch for DRIZPARS reference file is 'N/A'.\n",
      "2023-10-03 10:47:55,505 - stpipe.Spec3Pipeline - INFO - Prefetch for EXTRACT1D reference file is '/Users/ajshajib/Research/1131_JWST/CRDS/references/jwst/nirspec/jwst_nirspec_extract1d_0002.asdf'.\n",
      "2023-10-03 10:47:55,506 - stpipe.Spec3Pipeline - INFO - Prefetch for PHOTOM reference file is '/Users/ajshajib/Research/1131_JWST/CRDS/references/jwst/nirspec/jwst_nirspec_photom_0016.fits'.\n",
      "2023-10-03 10:47:55,506 - stpipe.Spec3Pipeline - INFO - Prefetch for SPECKERNEL reference file is 'N/A'.\n",
      "2023-10-03 10:47:55,506 - stpipe.Spec3Pipeline - INFO - Prefetch for SPECPROFILE reference file is 'N/A'.\n",
      "2023-10-03 10:47:55,507 - stpipe.Spec3Pipeline - INFO - Prefetch for SPECTRACE reference file is 'N/A'.\n",
      "2023-10-03 10:47:55,507 - stpipe.Spec3Pipeline - INFO - Prefetch for WAVEMAP reference file is 'N/A'.\n",
      "2023-10-03 10:47:55,508 - stpipe.Spec3Pipeline - INFO - Starting calwebb_spec3 ...\n",
      "2023-10-03 10:47:55,517 - stpipe.Spec3Pipeline - WARNING - /Users/ajshajib/miniforge3/envs/jwst_pipe/lib/python3.11/site-packages/jwst/associations/association.py:215: UserWarning: 'expname' contains path, but should only be a filename.  All input files should be in a single directory, so no path is needed.\n",
      "2023-10-03 10:47:55,518 - stpipe.Spec3Pipeline - WARNING -   warnings.warn(err_str, UserWarning)\n",
      "2023-10-03 10:47:55,518 - stpipe.Spec3Pipeline - WARNING - \n",
      "2023-10-03 10:48:36,118 - stpipe.Spec3Pipeline.outlier_detection - INFO - Step outlier_detection running with args (<ModelContainer>,).\n",
      "2023-10-03 10:48:36,119 - stpipe.Spec3Pipeline.outlier_detection - INFO - Step outlier_detection parameters are: {'pre_hooks': [], 'post_hooks': [], 'output_file': None, 'output_dir': None, 'output_ext': '.fits', 'output_use_model': False, 'output_use_index': True, 'save_results': True, 'skip': False, 'suffix': 'crf', 'search_output_file': False, 'input_dir': '/Users/ajshajib/Research/1131_JWST/data/stage3', 'weight_type': 'ivm', 'pixfrac': 1.0, 'kernel': 'square', 'fillval': 'INDEF', 'nlow': 0, 'nhigh': 0, 'maskpt': 0.7, 'grow': 3, 'snr': '5.0 4.0', 'scale': '1.2 0.7', 'backg': 0.0, 'kernel_size': '7 7', 'threshold_percent': 99.8, 'ifu_second_check': False, 'save_intermediate_results': False, 'resample_data': True, 'good_bits': '~DO_NOT_USE', 'scale_detection': False, 'allowed_memory': None, 'in_memory': False}\n",
      "2023-10-03 10:48:36,123 - stpipe.Spec3Pipeline.outlier_detection - INFO - Performing outlier detection on 20 inputs\n",
      "2023-10-03 10:48:36,124 - stpipe.Spec3Pipeline.outlier_detection - INFO - Performing IFU outlier_detection for exptype NRS_IFU\n",
      "2023-10-03 10:48:36,225 - stpipe.Spec3Pipeline.outlier_detection - WARNING - /Users/ajshajib/miniforge3/envs/jwst_pipe/lib/python3.11/site-packages/jwst/outlier_detection/outlier_detection_ifu.py:215: RuntimeWarning: All-NaN slice encountered\n",
      "2023-10-03 10:48:36,225 - stpipe.Spec3Pipeline.outlier_detection - WARNING -   combdiff = np.nanmin(comb, axis=0)\n",
      "2023-10-03 10:48:36,225 - stpipe.Spec3Pipeline.outlier_detection - WARNING - \n",
      "2023-10-03 10:48:37,313 - stpipe.Spec3Pipeline.outlier_detection - WARNING - /Users/ajshajib/miniforge3/envs/jwst_pipe/lib/python3.11/site-packages/jwst/outlier_detection/outlier_detection_ifu.py:220: RuntimeWarning: All-NaN slice encountered\n",
      "2023-10-03 10:48:37,314 - stpipe.Spec3Pipeline.outlier_detection - WARNING -   minarr = np.nanmin(diffarr, axis=0)\n",
      "2023-10-03 10:48:37,314 - stpipe.Spec3Pipeline.outlier_detection - WARNING - \n",
      "2023-10-03 10:48:50,464 - stpipe.Spec3Pipeline.outlier_detection - INFO - Total #  pixels flagged as outliers: 2759 (0.07%)\n",
      "2023-10-03 10:48:50,486 - stpipe.Spec3Pipeline.outlier_detection - INFO - Total #  pixels flagged as outliers: 2759 (0.07%)\n",
      "2023-10-03 10:48:50,508 - stpipe.Spec3Pipeline.outlier_detection - INFO - Total #  pixels flagged as outliers: 2759 (0.07%)\n",
      "2023-10-03 10:48:50,530 - stpipe.Spec3Pipeline.outlier_detection - INFO - Total #  pixels flagged as outliers: 2759 (0.07%)\n",
      "2023-10-03 10:48:50,553 - stpipe.Spec3Pipeline.outlier_detection - INFO - Total #  pixels flagged as outliers: 2759 (0.07%)\n",
      "2023-10-03 10:48:50,574 - stpipe.Spec3Pipeline.outlier_detection - INFO - Total #  pixels flagged as outliers: 2759 (0.07%)\n",
      "2023-10-03 10:48:50,596 - stpipe.Spec3Pipeline.outlier_detection - INFO - Total #  pixels flagged as outliers: 2759 (0.07%)\n",
      "2023-10-03 10:48:50,617 - stpipe.Spec3Pipeline.outlier_detection - INFO - Total #  pixels flagged as outliers: 2759 (0.07%)\n",
      "2023-10-03 10:48:50,638 - stpipe.Spec3Pipeline.outlier_detection - INFO - Total #  pixels flagged as outliers: 2759 (0.07%)\n",
      "2023-10-03 10:48:50,660 - stpipe.Spec3Pipeline.outlier_detection - INFO - Total #  pixels flagged as outliers: 2759 (0.07%)\n",
      "2023-10-03 10:48:50,685 - stpipe.Spec3Pipeline.outlier_detection - INFO - Total #  pixels flagged as outliers: 2759 (0.07%)\n",
      "2023-10-03 10:48:50,706 - stpipe.Spec3Pipeline.outlier_detection - INFO - Total #  pixels flagged as outliers: 2759 (0.07%)\n",
      "2023-10-03 10:48:50,729 - stpipe.Spec3Pipeline.outlier_detection - INFO - Total #  pixels flagged as outliers: 2759 (0.07%)\n",
      "2023-10-03 10:48:50,750 - stpipe.Spec3Pipeline.outlier_detection - INFO - Total #  pixels flagged as outliers: 2759 (0.07%)\n",
      "2023-10-03 10:48:50,778 - stpipe.Spec3Pipeline.outlier_detection - INFO - Total #  pixels flagged as outliers: 2759 (0.07%)\n",
      "2023-10-03 10:48:50,803 - stpipe.Spec3Pipeline.outlier_detection - INFO - Total #  pixels flagged as outliers: 2759 (0.07%)\n",
      "2023-10-03 10:48:50,825 - stpipe.Spec3Pipeline.outlier_detection - INFO - Total #  pixels flagged as outliers: 2759 (0.07%)\n",
      "2023-10-03 10:48:50,846 - stpipe.Spec3Pipeline.outlier_detection - INFO - Total #  pixels flagged as outliers: 2759 (0.07%)\n",
      "2023-10-03 10:48:50,869 - stpipe.Spec3Pipeline.outlier_detection - INFO - Total #  pixels flagged as outliers: 2759 (0.07%)\n",
      "2023-10-03 10:48:50,890 - stpipe.Spec3Pipeline.outlier_detection - INFO - Total #  pixels flagged as outliers: 2759 (0.07%)\n",
      "2023-10-03 10:48:52,219 - stpipe.Spec3Pipeline.outlier_detection - INFO - Saved model in /Users/ajshajib/Research/1131_JWST/data/stage3/jw01794001001_02101_00001_nrs1_o001_crf.fits\n",
      "2023-10-03 10:48:53,525 - stpipe.Spec3Pipeline.outlier_detection - INFO - Saved model in /Users/ajshajib/Research/1131_JWST/data/stage3/jw01794001001_02101_00002_nrs1_o001_crf.fits\n",
      "2023-10-03 10:48:54,908 - stpipe.Spec3Pipeline.outlier_detection - INFO - Saved model in /Users/ajshajib/Research/1131_JWST/data/stage3/jw01794001001_02101_00003_nrs1_o001_crf.fits\n",
      "2023-10-03 10:48:56,232 - stpipe.Spec3Pipeline.outlier_detection - INFO - Saved model in /Users/ajshajib/Research/1131_JWST/data/stage3/jw01794001001_02101_00004_nrs1_o001_crf.fits\n",
      "2023-10-03 10:48:57,572 - stpipe.Spec3Pipeline.outlier_detection - INFO - Saved model in /Users/ajshajib/Research/1131_JWST/data/stage3/jw01794001001_04101_00001_nrs1_o001_crf.fits\n",
      "2023-10-03 10:48:58,900 - stpipe.Spec3Pipeline.outlier_detection - INFO - Saved model in /Users/ajshajib/Research/1131_JWST/data/stage3/jw01794001001_04101_00002_nrs1_o001_crf.fits\n",
      "2023-10-03 10:49:00,211 - stpipe.Spec3Pipeline.outlier_detection - INFO - Saved model in /Users/ajshajib/Research/1131_JWST/data/stage3/jw01794001001_04101_00003_nrs1_o001_crf.fits\n",
      "2023-10-03 10:49:01,528 - stpipe.Spec3Pipeline.outlier_detection - INFO - Saved model in /Users/ajshajib/Research/1131_JWST/data/stage3/jw01794001001_04101_00004_nrs1_o001_crf.fits\n",
      "2023-10-03 10:49:03,239 - stpipe.Spec3Pipeline.outlier_detection - INFO - Saved model in /Users/ajshajib/Research/1131_JWST/data/stage3/jw01794001001_06101_00001_nrs1_o001_crf.fits\n",
      "2023-10-03 10:49:05,065 - stpipe.Spec3Pipeline.outlier_detection - INFO - Saved model in /Users/ajshajib/Research/1131_JWST/data/stage3/jw01794001001_06101_00002_nrs1_o001_crf.fits\n",
      "2023-10-03 10:49:06,480 - stpipe.Spec3Pipeline.outlier_detection - INFO - Saved model in /Users/ajshajib/Research/1131_JWST/data/stage3/jw01794001001_06101_00003_nrs1_o001_crf.fits\n",
      "2023-10-03 10:49:11,013 - stpipe.Spec3Pipeline.outlier_detection - INFO - Saved model in /Users/ajshajib/Research/1131_JWST/data/stage3/jw01794001001_06101_00004_nrs1_o001_crf.fits\n",
      "2023-10-03 10:49:12,481 - stpipe.Spec3Pipeline.outlier_detection - INFO - Saved model in /Users/ajshajib/Research/1131_JWST/data/stage3/jw01794001001_08101_00001_nrs1_o001_crf.fits\n",
      "2023-10-03 10:49:13,902 - stpipe.Spec3Pipeline.outlier_detection - INFO - Saved model in /Users/ajshajib/Research/1131_JWST/data/stage3/jw01794001001_08101_00002_nrs1_o001_crf.fits\n",
      "2023-10-03 10:49:15,305 - stpipe.Spec3Pipeline.outlier_detection - INFO - Saved model in /Users/ajshajib/Research/1131_JWST/data/stage3/jw01794001001_08101_00003_nrs1_o001_crf.fits\n",
      "2023-10-03 10:49:16,650 - stpipe.Spec3Pipeline.outlier_detection - INFO - Saved model in /Users/ajshajib/Research/1131_JWST/data/stage3/jw01794001001_08101_00004_nrs1_o001_crf.fits\n",
      "2023-10-03 10:49:18,058 - stpipe.Spec3Pipeline.outlier_detection - INFO - Saved model in /Users/ajshajib/Research/1131_JWST/data/stage3/jw01794001001_10101_00001_nrs1_o001_crf.fits\n",
      "2023-10-03 10:49:19,451 - stpipe.Spec3Pipeline.outlier_detection - INFO - Saved model in /Users/ajshajib/Research/1131_JWST/data/stage3/jw01794001001_12101_00001_nrs1_o001_crf.fits\n",
      "2023-10-03 10:49:20,830 - stpipe.Spec3Pipeline.outlier_detection - INFO - Saved model in /Users/ajshajib/Research/1131_JWST/data/stage3/jw01794001001_14101_00001_nrs1_o001_crf.fits\n",
      "2023-10-03 10:49:22,183 - stpipe.Spec3Pipeline.outlier_detection - INFO - Saved model in /Users/ajshajib/Research/1131_JWST/data/stage3/jw01794001001_16101_00001_nrs1_o001_crf.fits\n",
      "2023-10-03 10:49:22,184 - stpipe.Spec3Pipeline.outlier_detection - INFO - Step outlier_detection done\n",
      "2023-10-03 10:49:25,089 - stpipe.Spec3Pipeline.cube_build - INFO - Step cube_build running with args (<ModelContainer>,).\n",
      "2023-10-03 10:49:25,090 - stpipe.Spec3Pipeline.cube_build - INFO - Step cube_build parameters are: {'pre_hooks': [], 'post_hooks': [], 'output_file': None, 'output_dir': None, 'output_ext': '.fits', 'output_use_model': True, 'output_use_index': True, 'save_results': True, 'skip': False, 'suffix': 's3d', 'search_output_file': False, 'input_dir': '/Users/ajshajib/Research/1131_JWST/data/stage3', 'channel': 'all', 'band': 'all', 'grating': 'all', 'filter': 'all', 'output_type': None, 'scalexy': 0.0, 'scalew': 0.0, 'weighting': 'drizzle', 'coord_system': 'ifualign', 'rois': 0.0, 'roiw': 0.0, 'weight_power': 2.0, 'wavemin': None, 'wavemax': None, 'single': False, 'skip_dqflagging': False, 'debug_spaxel': '-1 -1 -1'}\n",
      "2023-10-03 10:49:25,090 - stpipe.Spec3Pipeline.cube_build - INFO - Starting IFU Cube Building Step\n",
      "2023-10-03 10:49:25,091 - stpipe.Spec3Pipeline.cube_build - INFO - Input interpolation: drizzle\n",
      "2023-10-03 10:49:25,091 - stpipe.Spec3Pipeline.cube_build - INFO - Coordinate system to use: ifualign\n",
      "2023-10-03 10:49:25,095 - stpipe.Spec3Pipeline.cube_build - INFO - Setting output type to: band\n",
      "2023-10-03 10:49:25,111 - stpipe.Spec3Pipeline.cube_build - INFO - Reading cube parameter file /Users/ajshajib/Research/1131_JWST/CRDS/references/jwst/nirspec/jwst_nirspec_cubepar_0007.fits\n",
      "2023-10-03 10:49:25,356 - stpipe.Spec3Pipeline.cube_build - INFO - Output Cubes are single grating, single filter IFU Cubes\n",
      "2023-10-03 10:49:25,357 - stpipe.Spec3Pipeline.cube_build - INFO - Number of IFU cubes produced by this run = 1\n",
      "2023-10-03 10:49:25,359 - stpipe.Spec3Pipeline.cube_build - INFO - Defining rotation between ra-dec and IFU plane using g140m, f100lp\n",
      "2023-10-03 10:49:26,365 - stpipe.Spec3Pipeline.cube_build - INFO - Rotation angle between ifu and sky: 151.23474389624684\n",
      "2023-10-03 10:49:26,401 - stpipe.Spec3Pipeline.cube_build - INFO - Mapping all pixels to output to determine IFU foot print\n",
      "2023-10-03 10:49:26,403 - stpipe.Spec3Pipeline.cube_build - INFO - Looping over slices to determine cube size\n",
      "2023-10-03 10:50:06,419 - stpipe.Spec3Pipeline.cube_build - INFO - Mapping all pixels to output to determine IFU foot print\n",
      "2023-10-03 10:50:06,422 - stpipe.Spec3Pipeline.cube_build - INFO - Looping over slices to determine cube size\n",
      "2023-10-03 10:50:51,452 - stpipe.Spec3Pipeline.cube_build - INFO - Mapping all pixels to output to determine IFU foot print\n",
      "2023-10-03 10:50:51,454 - stpipe.Spec3Pipeline.cube_build - INFO - Looping over slices to determine cube size\n",
      "2023-10-03 10:51:35,582 - stpipe.Spec3Pipeline.cube_build - INFO - Mapping all pixels to output to determine IFU foot print\n",
      "2023-10-03 10:51:35,595 - stpipe.Spec3Pipeline.cube_build - INFO - Looping over slices to determine cube size\n",
      "2023-10-03 10:52:18,850 - stpipe.Spec3Pipeline.cube_build - INFO - Mapping all pixels to output to determine IFU foot print\n",
      "2023-10-03 10:52:18,852 - stpipe.Spec3Pipeline.cube_build - INFO - Looping over slices to determine cube size\n",
      "2023-10-03 10:53:02,683 - stpipe.Spec3Pipeline.cube_build - INFO - Mapping all pixels to output to determine IFU foot print\n",
      "2023-10-03 10:53:02,690 - stpipe.Spec3Pipeline.cube_build - INFO - Looping over slices to determine cube size\n",
      "2023-10-03 10:53:45,830 - stpipe.Spec3Pipeline.cube_build - INFO - Mapping all pixels to output to determine IFU foot print\n",
      "2023-10-03 10:53:45,841 - stpipe.Spec3Pipeline.cube_build - INFO - Looping over slices to determine cube size\n",
      "2023-10-03 10:54:25,642 - stpipe.Spec3Pipeline.cube_build - INFO - Mapping all pixels to output to determine IFU foot print\n",
      "2023-10-03 10:54:25,655 - stpipe.Spec3Pipeline.cube_build - INFO - Looping over slices to determine cube size\n",
      "2023-10-03 10:55:08,042 - stpipe.Spec3Pipeline.cube_build - INFO - Mapping all pixels to output to determine IFU foot print\n",
      "2023-10-03 10:55:08,045 - stpipe.Spec3Pipeline.cube_build - INFO - Looping over slices to determine cube size\n",
      "2023-10-03 10:55:50,232 - stpipe.Spec3Pipeline.cube_build - INFO - Mapping all pixels to output to determine IFU foot print\n",
      "2023-10-03 10:55:50,233 - stpipe.Spec3Pipeline.cube_build - INFO - Looping over slices to determine cube size\n",
      "2023-10-03 10:56:33,976 - stpipe.Spec3Pipeline.cube_build - INFO - Mapping all pixels to output to determine IFU foot print\n",
      "2023-10-03 10:56:33,977 - stpipe.Spec3Pipeline.cube_build - INFO - Looping over slices to determine cube size\n",
      "2023-10-03 10:57:14,897 - stpipe.Spec3Pipeline.cube_build - INFO - Mapping all pixels to output to determine IFU foot print\n",
      "2023-10-03 10:57:14,904 - stpipe.Spec3Pipeline.cube_build - INFO - Looping over slices to determine cube size\n",
      "2023-10-03 10:57:57,867 - stpipe.Spec3Pipeline.cube_build - INFO - Mapping all pixels to output to determine IFU foot print\n",
      "2023-10-03 10:57:57,873 - stpipe.Spec3Pipeline.cube_build - INFO - Looping over slices to determine cube size\n",
      "2023-10-03 10:58:38,196 - stpipe.Spec3Pipeline.cube_build - INFO - Mapping all pixels to output to determine IFU foot print\n",
      "2023-10-03 10:58:38,198 - stpipe.Spec3Pipeline.cube_build - INFO - Looping over slices to determine cube size\n",
      "2023-10-03 10:59:22,965 - stpipe.Spec3Pipeline.cube_build - INFO - Mapping all pixels to output to determine IFU foot print\n",
      "2023-10-03 10:59:22,969 - stpipe.Spec3Pipeline.cube_build - INFO - Looping over slices to determine cube size\n",
      "2023-10-03 11:00:08,697 - stpipe.Spec3Pipeline.cube_build - INFO - Mapping all pixels to output to determine IFU foot print\n",
      "2023-10-03 11:00:08,698 - stpipe.Spec3Pipeline.cube_build - INFO - Looping over slices to determine cube size\n",
      "2023-10-03 11:00:52,388 - stpipe.Spec3Pipeline.cube_build - INFO - Mapping all pixels to output to determine IFU foot print\n",
      "2023-10-03 11:00:52,403 - stpipe.Spec3Pipeline.cube_build - INFO - Looping over slices to determine cube size\n",
      "2023-10-03 11:01:35,551 - stpipe.Spec3Pipeline.cube_build - INFO - Mapping all pixels to output to determine IFU foot print\n",
      "2023-10-03 11:01:35,625 - stpipe.Spec3Pipeline.cube_build - INFO - Looping over slices to determine cube size\n",
      "2023-10-03 11:02:20,143 - stpipe.Spec3Pipeline.cube_build - INFO - Mapping all pixels to output to determine IFU foot print\n",
      "2023-10-03 11:02:20,152 - stpipe.Spec3Pipeline.cube_build - INFO - Looping over slices to determine cube size\n",
      "2023-10-03 11:03:00,626 - stpipe.Spec3Pipeline.cube_build - INFO - Mapping all pixels to output to determine IFU foot print\n",
      "2023-10-03 11:03:00,627 - stpipe.Spec3Pipeline.cube_build - INFO - Looping over slices to determine cube size\n",
      "2023-10-03 11:03:42,998 - stpipe.Spec3Pipeline.cube_build - INFO - Cube Geometry:\n",
      "2023-10-03 11:03:43,002 - stpipe.Spec3Pipeline.cube_build - INFO - axis#  Naxis  CRPIX    CRVAL      CDELT(arcsec)  Min & Max (xi, eta arcsec)\n",
      "2023-10-03 11:03:43,002 - stpipe.Spec3Pipeline.cube_build - INFO - Axis 1    65  33.00 172.96436798   0.10000000  -3.25000005   3.25000005\n",
      "2023-10-03 11:03:43,011 - stpipe.Spec3Pipeline.cube_build - INFO - Axis 2    59  30.00 -12.53286785   0.10000000  -2.95000004   2.95000004\n",
      "2023-10-03 11:03:43,040 - stpipe.Spec3Pipeline.cube_build - INFO - axis#  Naxis  CRPIX    CRVAL      CDELT(microns)  Min & Max (microns)\n",
      "2023-10-03 11:03:43,046 - stpipe.Spec3Pipeline.cube_build - INFO - Axis 3  1447   1.00   0.97031803   0.00063600   0.97000003   1.89029205\n",
      "2023-10-03 11:03:43,049 - stpipe.Spec3Pipeline.cube_build - INFO - Rotation angle between Ra-Dec and Slicer-Plane 151.23474390\n",
      "2023-10-03 11:03:43,050 - stpipe.Spec3Pipeline.cube_build - INFO - Cube covers grating, filter: g140m, f100lp\n",
      "2023-10-03 11:03:43,053 - stpipe.Spec3Pipeline.cube_build - INFO - Output Name: Level3_g140m-f100lp\n",
      "2023-10-03 11:03:46,477 - stpipe.Spec3Pipeline.cube_build - INFO - Mapping each NIRSpec slice to sky for input file: jw01794001001_02101_00001_nrs1_o001_crf.fits\n",
      "2023-10-03 11:04:34,629 - stpipe.Spec3Pipeline.cube_build - INFO - # of detector pixels not mapped to output plane: 10499 with wavelength below 0.969042714800529\n",
      "2023-10-03 11:04:34,635 - stpipe.Spec3Pipeline.cube_build - INFO - # of detector pixels not mapped to output plane: 7727 with wavelength above 1.8912493591789792\n",
      "2023-10-03 11:04:49,566 - stpipe.Spec3Pipeline.cube_build - INFO - Mapping each NIRSpec slice to sky for input file: jw01794001001_02101_00002_nrs1_o001_crf.fits\n",
      "2023-10-03 11:05:38,271 - stpipe.Spec3Pipeline.cube_build - INFO - # of detector pixels not mapped to output plane: 10499 with wavelength below 0.9690427148093568\n",
      "2023-10-03 11:05:38,274 - stpipe.Spec3Pipeline.cube_build - INFO - # of detector pixels not mapped to output plane: 7727 with wavelength above 1.8912493591701514\n",
      "2023-10-03 11:05:49,935 - stpipe.Spec3Pipeline.cube_build - INFO - Mapping each NIRSpec slice to sky for input file: jw01794001001_02101_00003_nrs1_o001_crf.fits\n",
      "2023-10-03 11:06:41,749 - stpipe.Spec3Pipeline.cube_build - INFO - # of detector pixels not mapped to output plane: 10499 with wavelength below 0.9690427148182064\n",
      "2023-10-03 11:06:41,750 - stpipe.Spec3Pipeline.cube_build - INFO - # of detector pixels not mapped to output plane: 7727 with wavelength above 1.8912493591613018\n",
      "2023-10-03 11:06:53,238 - stpipe.Spec3Pipeline.cube_build - INFO - Mapping each NIRSpec slice to sky for input file: jw01794001001_02101_00004_nrs1_o001_crf.fits\n",
      "2023-10-03 11:07:44,073 - stpipe.Spec3Pipeline.cube_build - INFO - # of detector pixels not mapped to output plane: 10499 with wavelength below 0.9690427148270553\n",
      "2023-10-03 11:07:44,097 - stpipe.Spec3Pipeline.cube_build - INFO - # of detector pixels not mapped to output plane: 7727 with wavelength above 1.8912493591524528\n",
      "2023-10-03 11:07:56,067 - stpipe.Spec3Pipeline.cube_build - INFO - Mapping each NIRSpec slice to sky for input file: jw01794001001_04101_00001_nrs1_o001_crf.fits\n",
      "2023-10-03 11:08:46,240 - stpipe.Spec3Pipeline.cube_build - INFO - # of detector pixels not mapped to output plane: 10499 with wavelength below 0.969042714837099\n",
      "2023-10-03 11:08:46,247 - stpipe.Spec3Pipeline.cube_build - INFO - # of detector pixels not mapped to output plane: 7727 with wavelength above 1.891249359142409\n",
      "2023-10-03 11:08:57,754 - stpipe.Spec3Pipeline.cube_build - INFO - Mapping each NIRSpec slice to sky for input file: jw01794001001_04101_00002_nrs1_o001_crf.fits\n",
      "2023-10-03 11:09:47,608 - stpipe.Spec3Pipeline.cube_build - INFO - # of detector pixels not mapped to output plane: 10499 with wavelength below 0.9690427148455432\n",
      "2023-10-03 11:09:47,618 - stpipe.Spec3Pipeline.cube_build - INFO - # of detector pixels not mapped to output plane: 7727 with wavelength above 1.891249359133965\n",
      "2023-10-03 11:09:59,029 - stpipe.Spec3Pipeline.cube_build - INFO - Mapping each NIRSpec slice to sky for input file: jw01794001001_04101_00003_nrs1_o001_crf.fits\n",
      "2023-10-03 11:10:46,793 - stpipe.Spec3Pipeline.cube_build - INFO - # of detector pixels not mapped to output plane: 10499 with wavelength below 0.9690427148543712\n",
      "2023-10-03 11:10:46,810 - stpipe.Spec3Pipeline.cube_build - INFO - # of detector pixels not mapped to output plane: 7727 with wavelength above 1.891249359125137\n",
      "2023-10-03 11:10:58,263 - stpipe.Spec3Pipeline.cube_build - INFO - Mapping each NIRSpec slice to sky for input file: jw01794001001_04101_00004_nrs1_o001_crf.fits\n",
      "2023-10-03 11:11:42,449 - stpipe.Spec3Pipeline.cube_build - INFO - # of detector pixels not mapped to output plane: 10499 with wavelength below 0.9690427148628153\n",
      "2023-10-03 11:11:42,451 - stpipe.Spec3Pipeline.cube_build - INFO - # of detector pixels not mapped to output plane: 7727 with wavelength above 1.8912493591166928\n",
      "2023-10-03 11:11:57,892 - stpipe.Spec3Pipeline.cube_build - INFO - Mapping each NIRSpec slice to sky for input file: jw01794001001_06101_00001_nrs1_o001_crf.fits\n",
      "2023-10-03 11:12:45,621 - stpipe.Spec3Pipeline.cube_build - INFO - # of detector pixels not mapped to output plane: 10499 with wavelength below 0.9690427148732639\n",
      "2023-10-03 11:12:45,624 - stpipe.Spec3Pipeline.cube_build - INFO - # of detector pixels not mapped to output plane: 7727 with wavelength above 1.8912493591062443\n",
      "2023-10-03 11:12:57,095 - stpipe.Spec3Pipeline.cube_build - INFO - Mapping each NIRSpec slice to sky for input file: jw01794001001_06101_00002_nrs1_o001_crf.fits\n",
      "2023-10-03 11:13:48,002 - stpipe.Spec3Pipeline.cube_build - INFO - # of detector pixels not mapped to output plane: 10499 with wavelength below 0.9690427148817082\n",
      "2023-10-03 11:13:48,004 - stpipe.Spec3Pipeline.cube_build - INFO - # of detector pixels not mapped to output plane: 7727 with wavelength above 1.8912493590978\n",
      "2023-10-03 11:13:59,955 - stpipe.Spec3Pipeline.cube_build - INFO - Mapping each NIRSpec slice to sky for input file: jw01794001001_06101_00003_nrs1_o001_crf.fits\n",
      "2023-10-03 11:14:53,224 - stpipe.Spec3Pipeline.cube_build - INFO - # of detector pixels not mapped to output plane: 10499 with wavelength below 0.9690427148901521\n",
      "2023-10-03 11:14:53,228 - stpipe.Spec3Pipeline.cube_build - INFO - # of detector pixels not mapped to output plane: 7727 with wavelength above 1.891249359089356\n",
      "2023-10-03 11:15:05,492 - stpipe.Spec3Pipeline.cube_build - INFO - Mapping each NIRSpec slice to sky for input file: jw01794001001_06101_00004_nrs1_o001_crf.fits\n",
      "2023-10-03 11:15:54,121 - stpipe.Spec3Pipeline.cube_build - INFO - # of detector pixels not mapped to output plane: 10499 with wavelength below 0.9690427148993854\n",
      "2023-10-03 11:15:54,126 - stpipe.Spec3Pipeline.cube_build - INFO - # of detector pixels not mapped to output plane: 7727 with wavelength above 1.8912493590801227\n",
      "2023-10-03 11:16:05,766 - stpipe.Spec3Pipeline.cube_build - INFO - Mapping each NIRSpec slice to sky for input file: jw01794001001_08101_00001_nrs1_o001_crf.fits\n",
      "2023-10-03 11:17:01,352 - stpipe.Spec3Pipeline.cube_build - INFO - # of detector pixels not mapped to output plane: 10499 with wavelength below 0.9690427149090237\n",
      "2023-10-03 11:17:01,359 - stpipe.Spec3Pipeline.cube_build - INFO - # of detector pixels not mapped to output plane: 7727 with wavelength above 1.8912493590704844\n",
      "2023-10-03 11:17:13,004 - stpipe.Spec3Pipeline.cube_build - INFO - Mapping each NIRSpec slice to sky for input file: jw01794001001_08101_00002_nrs1_o001_crf.fits\n",
      "2023-10-03 11:18:00,333 - stpipe.Spec3Pipeline.cube_build - INFO - # of detector pixels not mapped to output plane: 10499 with wavelength below 0.9690427149182781\n",
      "2023-10-03 11:18:00,336 - stpipe.Spec3Pipeline.cube_build - INFO - # of detector pixels not mapped to output plane: 7727 with wavelength above 1.89124935906123\n",
      "2023-10-03 11:18:16,166 - stpipe.Spec3Pipeline.cube_build - INFO - Mapping each NIRSpec slice to sky for input file: jw01794001001_08101_00003_nrs1_o001_crf.fits\n",
      "2023-10-03 11:19:04,949 - stpipe.Spec3Pipeline.cube_build - INFO - # of detector pixels not mapped to output plane: 10499 with wavelength below 0.9690427149267224\n",
      "2023-10-03 11:19:04,954 - stpipe.Spec3Pipeline.cube_build - INFO - # of detector pixels not mapped to output plane: 7727 with wavelength above 1.8912493590527857\n",
      "2023-10-03 11:19:16,353 - stpipe.Spec3Pipeline.cube_build - INFO - Mapping each NIRSpec slice to sky for input file: jw01794001001_08101_00004_nrs1_o001_crf.fits\n",
      "2023-10-03 11:20:02,439 - stpipe.Spec3Pipeline.cube_build - INFO - # of detector pixels not mapped to output plane: 10499 with wavelength below 0.9690427149351453\n",
      "2023-10-03 11:20:02,449 - stpipe.Spec3Pipeline.cube_build - INFO - # of detector pixels not mapped to output plane: 7727 with wavelength above 1.8912493590443629\n",
      "2023-10-03 11:20:18,372 - stpipe.Spec3Pipeline.cube_build - INFO - Mapping each NIRSpec slice to sky for input file: jw01794001001_10101_00001_nrs1_o001_crf.fits\n",
      "2023-10-03 11:21:10,163 - stpipe.Spec3Pipeline.cube_build - INFO - # of detector pixels not mapped to output plane: 10499 with wavelength below 0.9690427149459986\n",
      "2023-10-03 11:21:10,168 - stpipe.Spec3Pipeline.cube_build - INFO - # of detector pixels not mapped to output plane: 7727 with wavelength above 1.8912493590335095\n",
      "2023-10-03 11:21:21,679 - stpipe.Spec3Pipeline.cube_build - INFO - Mapping each NIRSpec slice to sky for input file: jw01794001001_12101_00001_nrs1_o001_crf.fits\n",
      "2023-10-03 11:22:05,869 - stpipe.Spec3Pipeline.cube_build - INFO - # of detector pixels not mapped to output plane: 10499 with wavelength below 0.9690427149556584\n",
      "2023-10-03 11:22:05,888 - stpipe.Spec3Pipeline.cube_build - INFO - # of detector pixels not mapped to output plane: 7727 with wavelength above 1.8912493590238497\n",
      "2023-10-03 11:22:17,490 - stpipe.Spec3Pipeline.cube_build - INFO - Mapping each NIRSpec slice to sky for input file: jw01794001001_14101_00001_nrs1_o001_crf.fits\n",
      "2023-10-03 11:23:13,262 - stpipe.Spec3Pipeline.cube_build - INFO - # of detector pixels not mapped to output plane: 10499 with wavelength below 0.9690427149661069\n",
      "2023-10-03 11:23:13,281 - stpipe.Spec3Pipeline.cube_build - INFO - # of detector pixels not mapped to output plane: 7727 with wavelength above 1.8912493590134012\n",
      "2023-10-03 11:23:25,218 - stpipe.Spec3Pipeline.cube_build - INFO - Mapping each NIRSpec slice to sky for input file: jw01794001001_16101_00001_nrs1_o001_crf.fits\n",
      "2023-10-03 11:24:15,249 - stpipe.Spec3Pipeline.cube_build - INFO - # of detector pixels not mapped to output plane: 10499 with wavelength below 0.9690427149757455\n",
      "2023-10-03 11:24:15,252 - stpipe.Spec3Pipeline.cube_build - INFO - # of detector pixels not mapped to output plane: 7727 with wavelength above 1.8912493590037627\n",
      "2023-10-03 11:24:23,402 - stpipe.Spec3Pipeline.cube_build - INFO - Average # of holes/wavelength plane is < 1\n",
      "2023-10-03 11:24:23,402 - stpipe.Spec3Pipeline.cube_build - INFO - Total # of holes for IFU cube is : 136\n",
      "2023-10-03 11:24:25,600 - stpipe.Spec3Pipeline.cube_build - INFO - Update S_REGION to POLYGON ICRS  172.963172646 -12.534001753 172.963172646 -12.531733949 172.965563312 -12.531733949 172.965563312 -12.534001753\n",
      "2023-10-03 11:24:25,899 - stpipe.Spec3Pipeline.cube_build - INFO - Saved model in /Users/ajshajib/Research/1131_JWST/data/stage3/Level3_g140m-f100lp_s3d.fits\n",
      "2023-10-03 11:24:25,899 - stpipe.Spec3Pipeline.cube_build - INFO - Step cube_build done\n",
      "2023-10-03 11:24:31,017 - stpipe.Spec3Pipeline.extract_1d - INFO - Step extract_1d running with args (<ModelContainer>,).\n",
      "2023-10-03 11:24:31,018 - stpipe.Spec3Pipeline.extract_1d - INFO - Step extract_1d parameters are: {'pre_hooks': [], 'post_hooks': [], 'output_file': None, 'output_dir': None, 'output_ext': '.fits', 'output_use_model': False, 'output_use_index': True, 'save_results': True, 'skip': False, 'suffix': 'x1d', 'search_output_file': False, 'input_dir': '/Users/ajshajib/Research/1131_JWST/data/stage3', 'smoothing_length': None, 'bkg_fit': None, 'bkg_order': None, 'bkg_sigma_clip': 3.0, 'log_increment': 50, 'subtract_background': None, 'use_source_posn': None, 'center_xy': None, 'apply_apcorr': True, 'ifu_autocen': False, 'ifu_rfcorr': False, 'soss_atoca': True, 'soss_threshold': 0.01, 'soss_n_os': 2, 'soss_wave_grid_in': None, 'soss_wave_grid_out': None, 'soss_estimate': None, 'soss_rtol': 0.0001, 'soss_max_grid_size': 20000, 'soss_transform': None, 'soss_tikfac': None, 'soss_width': 40.0, 'soss_bad_pix': 'masking', 'soss_modelname': None}\n",
      "2023-10-03 11:24:31,027 - stpipe.Spec3Pipeline.extract_1d - INFO - Using EXTRACT1D reference file /Users/ajshajib/Research/1131_JWST/CRDS/references/jwst/nirspec/jwst_nirspec_extract1d_0002.asdf\n",
      "2023-10-03 11:24:31,033 - stpipe.Spec3Pipeline.extract_1d - INFO - Using APCORR file /Users/ajshajib/Research/1131_JWST/CRDS/references/jwst/nirspec/jwst_nirspec_apcorr_0004.asdf\n",
      "2023-10-03 11:24:31,431 - stpipe.Spec3Pipeline.extract_1d - INFO - Source type = EXTENDED\n",
      "2023-10-03 11:24:31,439 - stpipe.Spec3Pipeline.extract_1d - INFO - Input model does not break out variance information. Passing only generalized errors.\n",
      "2023-10-03 11:24:38,854 - stpipe.Spec3Pipeline.extract_1d - INFO - Saved model in /Users/ajshajib/Research/1131_JWST/data/stage3/Level3_g140m-f100lp_x1d.fits\n",
      "2023-10-03 11:24:38,854 - stpipe.Spec3Pipeline.extract_1d - INFO - Step extract_1d done\n",
      "2023-10-03 11:24:38,854 - stpipe.Spec3Pipeline - INFO - Ending calwebb_spec3\n",
      "2023-10-03 11:24:38,854 - stpipe.Spec3Pipeline - INFO - Step Spec3Pipeline done\n"
     ]
    }
   ],
   "source": [
    "# Grab our lists of sci & background exposures.\n",
    "# Note that since we did 2D bkg subtraction earlier we don't actually\n",
    "# need these 1D backgrounds (they will be skipped by the Spec3 pipeline),\n",
    "# but if you modified Spec2 above to *not* do 2D subtraction, this would\n",
    "# be how you would use them for a 1D master background subtraction here.\n",
    "sci_files = sorted(glob.glob(stage2+'jw*1001*cal.fits'))\n",
    "\n",
    "print(sci_files)\n",
    "\n",
    "# Make an association file that includes all of the different exposures\n",
    "asn_file = os.path.join(stage3, 'level3_asn.json')\n",
    "\n",
    "write_to_asn_sci(sci_files, asn_file, 'Level3')\n",
    "runspec3(asn_file, stage3)"
   ],
   "metadata": {
    "collapsed": false,
    "ExecuteTime": {
     "end_time": "2023-10-03T16:24:38.865617Z",
     "start_time": "2023-10-03T15:47:51.157667Z"
    }
   },
   "id": "33a554d35dd9a52b"
  },
  {
   "cell_type": "code",
   "execution_count": 3,
   "outputs": [],
   "source": [
    "import numpy as np\n",
    "from astropy.io import fits "
   ],
   "metadata": {
    "collapsed": false,
    "ExecuteTime": {
     "end_time": "2023-11-08T18:26:09.546200Z",
     "start_time": "2023-11-08T18:26:09.539750Z"
    }
   },
   "id": "8d447da60a149b76"
  },
  {
   "cell_type": "code",
   "execution_count": 5,
   "outputs": [],
   "source": [
    "data = fits.getdata(\"../data/stage3/Level3_g140m-f100lp_s3d.fits\")"
   ],
   "metadata": {
    "collapsed": false,
    "ExecuteTime": {
     "end_time": "2023-11-08T18:26:59.801725Z",
     "start_time": "2023-11-08T18:26:59.783128Z"
    }
   },
   "id": "b2445ed895fc8320"
  },
  {
   "cell_type": "code",
   "execution_count": 6,
   "outputs": [
    {
     "data": {
      "text/plain": "(1447, 59, 65)"
     },
     "execution_count": 6,
     "metadata": {},
     "output_type": "execute_result"
    }
   ],
   "source": [
    "data.shape"
   ],
   "metadata": {
    "collapsed": false,
    "ExecuteTime": {
     "end_time": "2023-11-08T18:27:02.712521Z",
     "start_time": "2023-11-08T18:27:02.701065Z"
    }
   },
   "id": "21bd84a44bdfb351"
  },
  {
   "cell_type": "code",
   "execution_count": 8,
   "outputs": [
    {
     "name": "stderr",
     "output_type": "stream",
     "text": [
      "2023-11-08 12:27:41,291 - stpipe - WARNING - /var/folders/ry/23z2z0bd7_d814t1jlq8ydlw0000gn/T/ipykernel_55662/626591740.py:3: RuntimeWarning: divide by zero encountered in log10\n",
      "2023-11-08 12:27:41,291 - stpipe - WARNING -   plt.matshow(np.log10(np.nansum(data, axis=0)))\n",
      "2023-11-08 12:27:41,291 - stpipe - WARNING - \n",
      "2023-11-08 12:27:41,292 - stpipe - WARNING - /var/folders/ry/23z2z0bd7_d814t1jlq8ydlw0000gn/T/ipykernel_55662/626591740.py:3: RuntimeWarning: invalid value encountered in log10\n",
      "2023-11-08 12:27:41,292 - stpipe - WARNING -   plt.matshow(np.log10(np.nansum(data, axis=0)))\n",
      "2023-11-08 12:27:41,292 - stpipe - WARNING - \n"
     ]
    },
    {
     "data": {
      "text/plain": "<matplotlib.image.AxesImage at 0x29e9bec50>"
     },
     "execution_count": 8,
     "metadata": {},
     "output_type": "execute_result"
    },
    {
     "data": {
      "text/plain": "<Figure size 528.814x480 with 1 Axes>",
      "image/png": "[encoded data removed]"
     },
     "metadata": {},
     "output_type": "display_data"
    }
   ],
   "source": [
    "from matplotlib import pyplot as plt\n",
    "\n",
    "plt.matshow(np.log10(np.nansum(data, axis=0)))"
   ],
   "metadata": {
    "collapsed": false,
    "ExecuteTime": {
     "end_time": "2023-11-08T18:27:41.379307Z",
     "start_time": "2023-11-08T18:27:41.284591Z"
    }
   },
   "id": "f4971725f4cac8b9"
  },
  {
   "cell_type": "code",
   "execution_count": 13,
   "outputs": [
    {
     "data": {
      "text/plain": "[<matplotlib.lines.Line2D at 0x2a58facd0>]"
     },
     "execution_count": 13,
     "metadata": {},
     "output_type": "execute_result"
    },
    {
     "data": {
      "text/plain": "<Figure size 640x480 with 1 Axes>",
      "image/png": "[encoded data removed]"
     },
     "metadata": {},
     "output_type": "display_data"
    }
   ],
   "source": [
    "plt.plot(data[:, 30, 30])"
   ],
   "metadata": {
    "collapsed": false,
    "ExecuteTime": {
     "end_time": "2023-11-08T18:28:46.935321Z",
     "start_time": "2023-11-08T18:28:46.879018Z"
    }
   },
   "id": "2a57ce014682003f"
  },
  {
   "cell_type": "code",
   "execution_count": null,
   "outputs": [],
   "source": [],
   "metadata": {
    "collapsed": false
   },
   "id": "f0dcf080b357adf0"
  }
 ],
 "metadata": {
  "kernelspec": {
   "display_name": "Python 3",
   "language": "python",
   "name": "python3"
  },
  "language_info": {
   "codemirror_mode": {
    "name": "ipython",
    "version": 2
   },
   "file_extension": ".py",
   "mimetype": "text/x-python",
   "name": "python",
   "nbconvert_exporter": "python",
   "pygments_lexer": "ipython2",
   "version": "2.7.6"
  }
 },
 "nbformat": 4,
 "nbformat_minor": 5
}
