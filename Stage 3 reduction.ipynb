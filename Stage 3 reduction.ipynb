{
 "cells": [
  {
   "cell_type": "markdown",
   "source": [
    "**Authors:** Anowar Shajib, David Law\n",
    "\n",
    "*Adapted from the [notebook](https://github.com/JWST-Templates/Notebooks/blob/main/MIRI_MRS_reduction_SPT0418-47_PAH_ch3long.ipynb) by the TEMPLATES team (J. Spilker, K. A. Phadke, D. Law).*\n",
    "\n",
    "In this notebook we process our data through the Spec2 pipeline in order to produce \n",
    "Lvl3 data products (i.e., calibrated slope images and quick-look data cubes and 1d \n",
    "spectra).  \n",
    "    \n",
    "See https://jwst-pipeline.readthedocs.io/en/latest/jwst/pipeline/calwebb_spec2.html\n",
    "\n",
    "Here we'll run the Spec3 pipeline to produce a composite data cube from all dithered exposures.\n",
    "We will need to create an association file from all science and background data in order for the pipeline to use them appropriately.\n",
    "\n",
    "\n",
    "<div class=\"alert alert-block alert-warning\">\n",
    "A word of caution: the data cubes created by the JWST pipeline are in SURFACE BRIGHTNESS units (MJy/steradian), not flux units.  What that means is that if you intend to sum spectra within an aperture you need to be sure to multiply by the pixel area in steradians first in order to get a spectrum in flux units (the PIXAR_SR keyword can be found in the SCI extension header).  This correction is already build into the pipeline Extract1D algorithm.\n",
    "\n",
    "See https://jwst-pipeline.readthedocs.io/en/latest/jwst/pipeline/calwebb_spec3.html    \n",
    "</div>\n",
    "\n",
    "Spec3 requires an association file to be created to associate the individual _cal.fits science exposures together to be combined into a final combined data cube.\n",
    "\n",
    "- If Master background subtraction was chosen, this will be applied during Spec3. Doing the Background subtraction requires the association file to be created to associate the background _x1d.fits files with all science files. For Master Background subtraction the association file must contain all _x1d.fits background files created with Spec2 and all _cal.fits science files to be combined into the final background subtracted science cube. \n",
    "\n",
    "The extract_1d step is controlled by a different set of parameters in the EXTRACT1D reference file.\n",
    "\n",
    "For point sources:\n",
    ">For point sources a circular extraction aperture is used, along with an optional circular annulus for background extraction and subtraction. The size of the extraction region and the background annulus size varies with wavelength. The extraction related vectors are found in the asdf extract1d reference file. [More Info ...](https://jwst-pipeline.readthedocs.io/en/latest/jwst/extract_1d/description.html)\n",
    "\n",
    "For extended targets:\n",
    "> For an extended source, rectangular aperture photometry is used, with the entire image being extracted, and no background subtraction, regardless of what was specified in the reference file or step arguments. [More Info ...](https://jwst-pipeline.readthedocs.io/en/latest/jwst/extract_1d/description.html)"
   ],
   "metadata": {
    "collapsed": false
   },
   "id": "7f171f85c02dbd9e"
  },
  {
   "cell_type": "code",
   "execution_count": null,
   "id": "initial_id",
   "metadata": {},
   "outputs": [],
   "source": [
    "import glob\n",
    "\n",
    "import numpy as np\n",
    "from astropy.io import fits\n",
    "from matplotlib import pyplot as plt\n",
    "\n",
    "from util import *"
   ]
  },
  {
   "cell_type": "code",
   "execution_count": null,
   "outputs": [],
   "source": [
    "run_pipeline = True\n",
    "subtract_combined_background = True"
   ],
   "metadata": {
    "collapsed": false
   },
   "id": "5f27fba6dec1f9d0"
  },
  {
   "cell_type": "code",
   "execution_count": null,
   "outputs": [],
   "source": [
    "def write_to_association_file(\n",
    "    science_files, background_files, association_file, product_name=\"Level3\"\n",
    "):\n",
    "    \"\"\"\n",
    "    Write a .json association file that specifies a list of\n",
    "    science and background exposures to be processed by Spec3.\n",
    "    Note that any background exposures have to be of type x1d.\n",
    "\n",
    "    :param science_files: List of science exposures to be processed\n",
    "    :param association_file: Output .json file path/name\n",
    "    :param product_name: AFAIK should just be 'Level3' always but prob\n",
    "                      doesn't actually affect anything but metadata.\n",
    "    :return: None\n",
    "    :outputs: Writes a .json association file to the location in `asn_file'\n",
    "    \"\"\"\n",
    "    # Define the basic association of science files\n",
    "    association = asn_from_list(\n",
    "        science_files, rule=DMS_Level3_Base, product_name=product_name\n",
    "    )\n",
    "\n",
    "    # Add background files to the association\n",
    "    for background_file in background_files:\n",
    "        association[\"products\"][0][\"members\"].append(\n",
    "            {\"expname\": background_file, \"exptype\": \"background\"}\n",
    "        )\n",
    "\n",
    "    # Write the association to a json file\n",
    "    _, serialized = association.dump()\n",
    "    with open(association_file, \"w\") as outfile:\n",
    "        outfile.write(serialized)\n",
    "\n",
    "\n",
    "def run_spec3_pipeline(association_file, output_directory,\n",
    "                       output_file=None\n",
    "                       ):\n",
    "    \"\"\"\n",
    "    Run the Spec3 pipeline using the given association file. The association\n",
    "    file must contain the information needed - sci and bg cal files - to\n",
    "    run the pipeline.\n",
    "\n",
    "    :param association_file: file to run through the pipeline\n",
    "    :param output_directory: Directory for the stage3 output files\n",
    "    :return: None\n",
    "    :outputs: Writes _cal.fits files for each exposure to `output_directory'. Also saves\n",
    "              median-combined background images to `output_directory'. Additionally if\n",
    "              nocubes=False, writes a 3D data cube built from each exposure\n",
    "              to `output_directory'.\n",
    "    \"\"\"\n",
    "\n",
    "    crds_config = Spec3Pipeline.get_config_from_reference(association_file)\n",
    "    spec3 = Spec3Pipeline.from_config_section(crds_config)\n",
    "\n",
    "    spec3.output_dir = output_directory\n",
    "    spec3.save_results = True\n",
    "\n",
    "    # Background overrides were set up above\n",
    "    spec3.master_background.skip = True\n",
    "\n",
    "    # Overrides for whether or not certain other steps should be skipped\n",
    "    # spec3.assign_mtwcs.skip = False\n",
    "    spec3.outlier_detection.skip = False\n",
    "    # spec3.outlier_detection.kernel_size = '11 1'\n",
    "    # spec3.outlier_detection.threshold_percent = 99.5 # Dial this threshold if necessary to be more/less aggressive in outlier flagging\n",
    "    # spec3.mrs_imatch.skip = True\n",
    "    # spec3.cube_build.skip = True\n",
    "    # spec3.extract_1d.skip = False\n",
    "\n",
    "    # Cube building configuration options\n",
    "    # spec3.cube_build.override_cubepar = 'myfile.fits' # Cubepar parameter override\n",
    "    if output_file is not None:\n",
    "        spec3.cube_build.output_file = output_file # Custom output name\n",
    "    # spec3.cube_build.output_type = 'band' # 'band', 'channel', or 'multi' type cube output\n",
    "    # spec3.cube_build.channel = '1' # Build everything from just channel 1 into a single cube (we could also choose '2','3','4', or 'ALL')\n",
    "    # spec3.cube_build.weighting = 'drizzle' # 'emsm' or 'drizzle'\n",
    "    # spec3.cube_build.coord_system = 'ifualign' # 'ifualign', 'skyalign', or 'internal_cal'\n",
    "    # spec3.cube_build.scalexy = 0.5 # Output cube spaxel scale (arcsec) if setting it by hand\n",
    "    # spec3.cube_build.scalew = 0.002 # Output cube voxel depth in wavelength if setting it by hand\n",
    "    # spec3.cube_build.ra_center = 65.0 # Force cube to be centered at this R.A.\n",
    "    # spec3.cube_build.dec_center = -35.0 # Force cube to be centered at this Decl.\n",
    "    # spec3.cube_build.cube_pa = 45.0 # Force cube to have this position angle\n",
    "    # spec3.cube_build.nspax_x = 61 # Require this number of spaxels in cube X direction\n",
    "    # spec3.cube_build.nspax_y = 61 # Require this number of spaxels in cube Y direction\n",
    "    # spec3.cube_build.wavemin = 4.8 # Custom minimum wavelength for the cube\n",
    "    # spec3.cube_build.wavemax = 6.3 # Custom maximum wavelength for the cube\n",
    "\n",
    "    # Extract1D overrides and config options\n",
    "    # spec3.extract_1d.override_extract1d = 'myfile.asdf'\n",
    "    # spec3.extract_1d.override_apcorr = 'myfile.asdf'\n",
    "    # spec3.extract_1d.ifu_set_srctype = 'POINT' # Force a certain type of spectral extraction\n",
    "    # spec3.extract_1d.ifu_rscale = 2 # Number of FWHM to use for point-source aperture extraction radius (default is 2)\n",
    "    # spec3.extract_1d.ifu_autocen = True # Enable auto-centering of the extraction aperture\n",
    "    # spec3.extract_1d.center_xy=(20,20) # Override aperture location if desired\n",
    "    # spec3.extract_1d.ifu_rfcorr = True # Turn on 1d residual fringe correction\n",
    "    \n",
    "    spec3.save_results = True\n",
    "    spec3(association_file)"
   ],
   "metadata": {
    "collapsed": false
   },
   "id": "a1140d540fb6d46a"
  },
  {
   "cell_type": "code",
   "execution_count": null,
   "outputs": [],
   "source": [
    "# Grab our lists of sci & background exposures.\n",
    "# Note that since we did 2D bkg subtraction earlier we don't actually\n",
    "# need these 1D backgrounds (they will be skipped by the Spec3 pipeline),\n",
    "# but if you modified Spec2 to *not* do 2D subtraction, this would\n",
    "# be how you would use them for a 1D master background subtraction here.\n",
    "all_files = sorted(glob.glob(stage2_processed_directory + \"jw*cal.fits\"))\n",
    "\n",
    "science_files = all_files[:16]\n",
    "background_files = all_files[16:]"
   ],
   "metadata": {
    "collapsed": false
   },
   "id": "5c183093446c83c1"
  },
  {
   "cell_type": "code",
   "outputs": [],
   "source": [
    "# Make an association file that includes all of the different exposures\n",
    "association_file = os.path.join(stage3_directory, \"level3_asn.json\")\n",
    "\n",
    "write_to_association_file(science_files, background_files, association_file, \"Level3\")\n",
    "\n",
    "if run_pipeline:\n",
    "    run_spec3_pipeline(association_file, stage3_directory)"
   ],
   "metadata": {
    "collapsed": false
   },
   "id": "28d3b9bb0f5c0eb",
   "execution_count": null
  },
  {
   "cell_type": "markdown",
   "source": [
    "## make cube for the background"
   ],
   "metadata": {
    "collapsed": false
   },
   "id": "a05736cf5c137ec7"
  },
  {
   "cell_type": "code",
   "outputs": [],
   "source": [
    "association_file = os.path.join(stage3_directory, \"level3_background_asn.json\")\n",
    "\n",
    "write_to_association_file(\n",
    "    background_files, background_files, association_file, \"Level3\",\n",
    ")\n",
    "\n",
    "if run_pipeline:\n",
    "    run_spec3_pipeline(association_file, stage3_directory,\n",
    "                       output_file=\"background\"\n",
    "                       )"
   ],
   "metadata": {
    "collapsed": false
   },
   "id": "1acf56e3bf8ffdd5",
   "execution_count": null
  },
  {
   "cell_type": "markdown",
   "source": [
    "# Background subtraction"
   ],
   "metadata": {
    "collapsed": false
   },
   "id": "91523e276909055a"
  },
  {
   "cell_type": "code",
   "outputs": [],
   "source": [
    "background_cubes = []\n",
    "background_spectra = []\n",
    "\n",
    "background_cube_file = stage3_directory + \"background_g140m-f100lp_s3d.fits\"\n",
    "\n",
    "\n",
    "background_cube, header = fits.getdata(\n",
    "    background_cube_file, header=True\n",
    ")\n",
    "background_cubes.append(background_cube)\n",
    "for i in range(background_cube.shape[1]):\n",
    "    for j in range(background_cube.shape[2]):\n",
    "        if np.sum(background_cube[:, i, j])!= 0:\n",
    "            background_spectra.append(background_cube[:, i, j])    \n",
    "\n",
    "background_spectra = np.array(background_spectra)\n",
    "background_spectra.shape"
   ],
   "metadata": {
    "collapsed": false
   },
   "id": "f27c3c890a50f2dd",
   "execution_count": null
  },
  {
   "cell_type": "code",
   "outputs": [],
   "source": [
    "from scipy.signal import savgol_filter\n",
    "\n",
    "wavelength = header[\"CRVAL3\"] + header[\"CDELT3\"] * np.arange(header[\"NAXIS3\"])\n",
    "\n",
    "background_unsmoothed = np.nanmedian(background_spectra, axis=0)\n",
    "background_spectra = savgol_filter(background_unsmoothed, 51, 3)\n",
    "\n",
    "fig, ax = plt.subplots(1, 1, figsize=(10, 3))\n",
    "\n",
    "ax.plot(wavelength, background_spectra, label=\"Background\")\n",
    "ax.plot(wavelength, background_unsmoothed, alpha=0.5, label=\"Background (unsmoothed)\")\n",
    "ax.set_xlabel(r\"Wavelength ($\\mu$m)\")\n",
    "ax.set_ylabel(\"Flux (MJy/sr)\")\n",
    "ax.set_title(\"Background\")\n",
    "ax.legend(fontsize=8)\n",
    "\n",
    "plt.show()"
   ],
   "metadata": {
    "collapsed": false
   },
   "id": "b41e0881b5aa70f2",
   "execution_count": null
  },
  {
   "cell_type": "code",
   "outputs": [],
   "source": [
    "if subtract_combined_background:\n",
    "    with fits.open(\n",
    "        stage3_directory + \"Level3_g140m-f100lp_s3d.fits\"\n",
    "    ) as hdu_list:\n",
    "        hdu_list[\"SCI\"].data -= background_spectra[:, np.newaxis, np.newaxis]\n",
    "        hdu_list.writeto(\n",
    "            stage3_directory + \"Level3_background_subtracted_g140m-f100lp_s3d.fits\",\n",
    "            overwrite=True,\n",
    "        )"
   ],
   "metadata": {
    "collapsed": false
   },
   "id": "a4bac4a64a33b675",
   "execution_count": null
  },
  {
   "cell_type": "markdown",
   "source": [
    "## Plot the spectra\n",
    "\n",
    "Here we'll plot the spectra to see what our source looks like."
   ],
   "metadata": {
    "collapsed": false
   },
   "id": "7433be2ec27404e1"
  },
  {
   "cell_type": "code",
   "execution_count": null,
   "outputs": [],
   "source": [
    "data, header = fits.getdata(\n",
    "    stage3_directory + \"Level3_background_subtracted_g140m-f100lp_s3d.fits\", header=True\n",
    ")"
   ],
   "metadata": {
    "collapsed": false
   },
   "id": "b2445ed895fc8320"
  },
  {
   "cell_type": "code",
   "execution_count": null,
   "outputs": [],
   "source": [
    "data.shape"
   ],
   "metadata": {
    "collapsed": false
   },
   "id": "21bd84a44bdfb351"
  },
  {
   "cell_type": "code",
   "execution_count": null,
   "outputs": [],
   "source": [
    "%matplotlib inline\n",
    "\n",
    "plt.matshow(np.log10(np.nansum(data, axis=0)))\n",
    "plt.title(\"Summed datacube\")\n",
    "plt.show()"
   ],
   "metadata": {
    "collapsed": false
   },
   "id": "f4971725f4cac8b9"
  },
  {
   "cell_type": "code",
   "execution_count": null,
   "outputs": [],
   "source": [
    "fig, ax = plt.subplots(1, 1, figsize=(10, 3))\n",
    "\n",
    "x_pix, y_pix = 41, 40\n",
    "ymin, ymax = np.nan, np.nan\n",
    "\n",
    "wavelength = header[\"CRVAL3\"] + header[\"CDELT3\"] * np.arange(header[\"NAXIS3\"])\n",
    "flux = data[:, y_pix, x_pix]\n",
    "\n",
    "ymin = np.nanmin([ymin, np.nanpercentile(flux, 2)])\n",
    "ymax = np.nanmax([ymax, np.nanpercentile(flux, 99.8)])\n",
    "\n",
    "plt.plot(wavelength, flux)\n",
    "\n",
    "plt.xlabel(r\"Wavelength ($\\mu$m)\")\n",
    "plt.ylabel(f\"Flux ({header['BUNIT']})\")\n",
    "plt.title(f\"pixel: {x_pix}, {y_pix}\")\n",
    "plt.grid()"
   ],
   "metadata": {
    "collapsed": false
   },
   "id": "dffea4dd87837eaa"
  },
  {
   "cell_type": "code",
   "execution_count": null,
   "outputs": [],
   "source": [
    "# Use the finale extracted spectra (x1d.fits) files\n",
    "x1d_file_path = stage3_directory + \"Level3*x1d.fits\"\n",
    "x1d_files = np.array(sorted(glob.glob(x1d_file_path)))"
   ],
   "metadata": {
    "collapsed": false
   },
   "id": "918bb81bcbffbfa3"
  },
  {
   "cell_type": "code",
   "execution_count": null,
   "outputs": [],
   "source": [
    "fig, ax = plt.subplots(1, 1, figsize=(10, 3))\n",
    "\n",
    "if len(x1d_files) > 0:\n",
    "    hdu = fits.open(x1d_files[0])\n",
    "    object_name = hdu[0].header[\"TARGPROP\"]\n",
    "else:\n",
    "    object_name = \"Unknown\"\n",
    "\n",
    "ymin, ymax = np.nan, np.nan\n",
    "\n",
    "for file in x1d_files:\n",
    "    x1d = fits.open(file)\n",
    "    x1d_data = x1d[1].data\n",
    "    wavelength = x1d_data[\"WAVELENGTH\"]\n",
    "    flux = x1d_data[\"FLUX\"]\n",
    "    ymin = np.nanmin([ymin, np.nanpercentile(flux, 2)])\n",
    "    ymax = np.nanmax([ymax, np.nanpercentile(flux, 99.8)])\n",
    "\n",
    "    # labels\n",
    "    label = f\"{x1d[0].header['FILTER']} / {x1d[0].header['GRATING']}\"\n",
    "\n",
    "    plt.plot(wavelength, flux, label=label)\n",
    "\n",
    "plt.xlabel(r\"Wavelength ($\\mu$m)\")\n",
    "plt.ylabel(\"Flux (Jy)\")\n",
    "plt.title(object_name)\n",
    "# plt.ylim(ymin,ymax)\n",
    "plt.legend(fontsize=8)\n",
    "plt.grid()"
   ],
   "metadata": {
    "collapsed": false
   },
   "id": "62166e8db9568ac"
  },
  {
   "cell_type": "code",
   "execution_count": null,
   "outputs": [],
   "source": [],
   "metadata": {
    "collapsed": false
   },
   "id": "2777a2194bfa7289"
  }
 ],
 "metadata": {
  "kernelspec": {
   "display_name": "Python 3 (ipykernel)",
   "language": "python",
   "name": "python3"
  },
  "language_info": {
   "codemirror_mode": {
    "name": "ipython",
    "version": 3
   },
   "file_extension": ".py",
   "mimetype": "text/x-python",
   "name": "python",
   "nbconvert_exporter": "python",
   "pygments_lexer": "ipython3",
   "version": "3.11.5"
  }
 },
 "nbformat": 4,
 "nbformat_minor": 5
}
